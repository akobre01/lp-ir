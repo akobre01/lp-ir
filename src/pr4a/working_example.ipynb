{
 "cells": [
  {
   "cell_type": "code",
   "execution_count": null,
   "metadata": {
    "collapsed": true
   },
   "outputs": [],
   "source": [
    "import autoassigner"
   ]
  },
  {
   "cell_type": "markdown",
   "metadata": {},
   "source": [
    "## Examples"
   ]
  },
  {
   "cell_type": "code",
   "execution_count": null,
   "metadata": {
    "collapsed": true
   },
   "outputs": [],
   "source": [
    "import numpy as np"
   ]
  },
  {
   "cell_type": "code",
   "execution_count": null,
   "metadata": {
    "collapsed": true
   },
   "outputs": [],
   "source": [
    "avg_est = lambda x: x\n",
    "mle_est = lambda x: 1./(1-x) if x < 1 else 1e6"
   ]
  },
  {
   "cell_type": "markdown",
   "metadata": {},
   "source": [
    "### Example 1"
   ]
  },
  {
   "cell_type": "code",
   "execution_count": null,
   "metadata": {
    "collapsed": true
   },
   "outputs": [],
   "source": [
    "similarity0 = np.matrix([[1., 1., 1.], \n",
    "                         [0., 0., 1./4-0.01], \n",
    "                         [1./4, 1./4, 1./2]])"
   ]
  },
  {
   "cell_type": "code",
   "execution_count": null,
   "metadata": {
    "collapsed": false
   },
   "outputs": [],
   "source": [
    "a = autoassigner.auto_assigner(similarity0, 1, 1, avg_est)\n",
    "a.fair_assignment()\n",
    "print 'fairness of the resulting assignment:', \"%.2f\" % a.best_quality"
   ]
  },
  {
   "cell_type": "markdown",
   "metadata": {},
   "source": [
    "### Example 2"
   ]
  },
  {
   "cell_type": "code",
   "execution_count": null,
   "metadata": {
    "collapsed": true
   },
   "outputs": [],
   "source": [
    "similarity1 = np.matrix([[1., 1., 1., 1., 0., 0.], [0., 0., 0., 0., 1./3, 1./3], \n",
    "                        [0., 0., 0., 0., 1./3., 1./3], [0., 0., 0., 0., 1./3., 1./3],\n",
    "                        [1./2, 1./2, 1./2, 1./2, 1./2., 1./2.], [1./2, 1./2, 1./2, 1./2, 1./2., 1./2.]])"
   ]
  },
  {
   "cell_type": "code",
   "execution_count": null,
   "metadata": {
    "collapsed": false
   },
   "outputs": [],
   "source": [
    "a1 = autoassigner.auto_assigner(similarity1, 2, 2, mle_est, iter_limit=1, time_limit=1)\n",
    "a1.fair_assignment()\n",
    "print 'fairness of the resulting assignment:', \"%.2f\" % a1.best_quality"
   ]
  },
  {
   "cell_type": "markdown",
   "metadata": {},
   "source": [
    "### Example 3"
   ]
  },
  {
   "cell_type": "code",
   "execution_count": null,
   "metadata": {
    "collapsed": true
   },
   "outputs": [],
   "source": [
    "similarity2 = np.matrix([[0, 4./100, 10./100],[1./100, 5./100, 0],[0, 10./100, 100./100]])"
   ]
  },
  {
   "cell_type": "code",
   "execution_count": null,
   "metadata": {
    "collapsed": false
   },
   "outputs": [],
   "source": [
    "#Notice that a change of the iter_limit (from 1 to 2) changes the resulting assignment, but does not change fairness.\n",
    "a2 = autoassigner.auto_assigner(similarity2, 1, 1, avg_est, iter_limit=1, time_limit=1)\n",
    "a2.fair_assignment()\n",
    "print 'fairness of the resulting assignment:', \"%.2f\" % a2.best_quality\n",
    "print a2.fa"
   ]
  }
 ],
 "metadata": {
  "kernelspec": {
   "display_name": "Python 2",
   "language": "python",
   "name": "python2"
  },
  "language_info": {
   "codemirror_mode": {
    "name": "ipython",
    "version": 2
   },
   "file_extension": ".py",
   "mimetype": "text/x-python",
   "name": "python",
   "nbconvert_exporter": "python",
   "pygments_lexer": "ipython2",
   "version": "2.7.13"
  }
 },
 "nbformat": 4,
 "nbformat_minor": 2
}
